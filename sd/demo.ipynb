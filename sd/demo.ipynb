{
 "cells": [
  {
   "cell_type": "code",
   "execution_count": 1,
   "id": "db1d2856-a6ad-40a0-bc27-ad721036e870",
   "metadata": {},
   "outputs": [
    {
     "name": "stdout",
     "output_type": "stream",
     "text": [
      "using device cpu\n"
     ]
    }
   ],
   "source": [
    "import model_loader\n",
    "import pipeline\n",
    "from PIL import Image\n",
    "from transformers import CLIPTokenizer\n",
    "import torch\n",
    "\n",
    "device = 'cpu'\n",
    "\n",
    "ALLOW_CUDA = False\n",
    "ALLOW_MPS = False\n",
    "\n",
    "if torch.cuda.is_available() and ALLOW_CUDA:\n",
    "    device = \"cuda\"\n",
    "# if (torch.has_mps or torch.backend.mps.is_available()) and ALLOW_MPS:\n",
    "#     device = 'mps'\n",
    "\n",
    "print(f'using device {device}')\n",
    "\n",
    "tokenizer = CLIPTokenizer('../data/tokenizer_vocab.json', merges_file=\"../data/tokenizer_merges.txt\")"
   ]
  },
  {
   "cell_type": "code",
   "execution_count": 2,
   "id": "62d86281-9a48-4210-bded-e8e006affb17",
   "metadata": {},
   "outputs": [],
   "source": [
    "model_file = '../data/v1-5-pruned-emaonly.ckpt' \n",
    "models = model_loader.preload_models_from_standard_weights(model_file, device)"
   ]
  },
  {
   "cell_type": "code",
   "execution_count": null,
   "id": "36ac2311-8f9d-41bb-bce1-eb857715c676",
   "metadata": {},
   "outputs": [
    {
     "name": "stderr",
     "output_type": "stream",
     "text": [
      " 10%|████████████████████▋                                                                                                                                                                                          | 5/50 [00:52<07:45, 10.35s/it]"
     ]
    }
   ],
   "source": [
    "# TXT2IMG\n",
    "prompt = \"A cat streching on the floor, highly detailed, ultra sharp, cinematic, 8k resolution\"\n",
    "uncond_prompt = \"\"\n",
    "do_cfg = True\n",
    "cfg_scale = 7\n",
    "\n",
    "#IMG2IMG\n",
    "input_image = None\n",
    "image_path = '../images/dina.jpeg'\n",
    "# input_image = Image.open(image_path)\n",
    "strength = 0.9\n",
    "\n",
    "sampler = 'ddpm'\n",
    "num_inference_steps = 50\n",
    "seed = 42\n",
    "\n",
    "output_image = pipeline.generate(\n",
    "    prompt = prompt,\n",
    "    uncond_prompt = uncond_prompt,\n",
    "    input_image =input_image,\n",
    "    strength = strength,\n",
    "    do_cfg= do_cfg, \n",
    "    cfg_scale =cfg_scale,\n",
    "    sampler_name=sampler,\n",
    "    n_inference_steps=num_inference_steps,\n",
    "    seed=seed,\n",
    "    models=models,\n",
    "    device=device,\n",
    "    idle_device='cpu',\n",
    "    tokenizer=tokenizer\n",
    ")\n",
    "\n",
    "Image.fromarray(output_image)"
   ]
  },
  {
   "cell_type": "code",
   "execution_count": null,
   "id": "750713b5-7de9-4643-ba3c-20b89d1bcd68",
   "metadata": {},
   "outputs": [],
   "source": []
  },
  {
   "cell_type": "code",
   "execution_count": null,
   "id": "969fa524-9182-4f22-967f-325a0a1f8f89",
   "metadata": {},
   "outputs": [],
   "source": []
  }
 ],
 "metadata": {
  "kernelspec": {
   "display_name": "Python 3 (ipykernel)",
   "language": "python",
   "name": "python3"
  },
  "language_info": {
   "codemirror_mode": {
    "name": "ipython",
    "version": 3
   },
   "file_extension": ".py",
   "mimetype": "text/x-python",
   "name": "python",
   "nbconvert_exporter": "python",
   "pygments_lexer": "ipython3",
   "version": "3.11.5"
  }
 },
 "nbformat": 4,
 "nbformat_minor": 5
}
